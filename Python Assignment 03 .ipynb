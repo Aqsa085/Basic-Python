{
 "cells": [
  {
   "cell_type": "markdown",
   "id": "8c057eeb",
   "metadata": {},
   "source": [
    "## 01. Prime Numbers"
   ]
  },
  {
   "cell_type": "code",
   "execution_count": 1,
   "id": "99aaa606",
   "metadata": {},
   "outputs": [
    {
     "name": "stdout",
     "output_type": "stream",
     "text": [
      "enter a number: 51\n",
      "it is not a prime number\n"
     ]
    }
   ],
   "source": [
    "num = int(input(\"enter a number: \"))  # Get a number from the user\n",
    "\n",
    "if num == 1:  # Check if the number is 1\n",
    "    print(\"it is not a prime number\")  # 1 is not a prime number\n",
    "\n",
    "if num > 1:  # Check if the number is greater than 1\n",
    "    # Check all numbers from 2 to one less than the entered number\n",
    "    \n",
    "    for i in range(2, num):  \n",
    "        if num % i == 0: # If the number can be divided evenly by i\n",
    "            print(\"it is not a prime number\")  # It's not prime\n",
    "            break  # Stop checking\n",
    "\n",
    "    else:  # If we find no divisors\n",
    "        print(\"it is a prime number\")  # The number is prime"
   ]
  },
  {
   "cell_type": "markdown",
   "id": "8d62a0ba",
   "metadata": {},
   "source": [
    "## 02.Product of Random Numbers"
   ]
  },
  {
   "cell_type": "code",
   "execution_count": 2,
   "id": "8329a66f",
   "metadata": {},
   "outputs": [
    {
     "name": "stdout",
     "output_type": "stream",
     "text": [
      "What is 3 * 2?\n",
      "Your answer: 6\n",
      "Correct!\n"
     ]
    }
   ],
   "source": [
    "import random  # Import the random module\n",
    "\n",
    "# Generate two random numbers\n",
    "num1 = random.randint(1, 25)  # Random number between 1 and 25\n",
    "num2 = random.randint(2, 15)   # Random number between 2 and 15\n",
    "\n",
    "# Ask the user a multiplication question\n",
    "print(f\"What is {num1} * {num2}?\")\n",
    "user_answer = int(input(\"Your answer: \"))  # Get user's answer\n",
    "\n",
    "# Calculate the correct answer\n",
    "correct_answer = num1 * num2\n",
    "\n",
    "# Check if the user's answer is correct\n",
    "if user_answer == correct_answer:\n",
    "    print(\"Correct!\")  # If correct, print this\n",
    "else:\n",
    "    print(f\"Wrong! The correct answer is {correct_answer}.\")  # If wrong, show the correct answer"
   ]
  },
  {
   "cell_type": "markdown",
   "id": "028d0c5d",
   "metadata": {},
   "source": [
    "## 03.Squares of even or odd numbers"
   ]
  },
  {
   "cell_type": "code",
   "execution_count": 3,
   "id": "8af8cab7",
   "metadata": {},
   "outputs": [
    {
     "name": "stdout",
     "output_type": "stream",
     "text": [
      "The square of 100 is 10000\n",
      "The square of 102 is 10404\n",
      "The square of 104 is 10816\n",
      "The square of 106 is 11236\n",
      "The square of 108 is 11664\n",
      "The square of 110 is 12100\n",
      "The square of 112 is 12544\n",
      "The square of 114 is 12996\n",
      "The square of 116 is 13456\n",
      "The square of 118 is 13924\n",
      "The square of 120 is 14400\n",
      "The square of 122 is 14884\n",
      "The square of 124 is 15376\n",
      "The square of 126 is 15876\n",
      "The square of 128 is 16384\n",
      "The square of 130 is 16900\n",
      "The square of 132 is 17424\n",
      "The square of 134 is 17956\n",
      "The square of 136 is 18496\n",
      "The square of 138 is 19044\n",
      "The square of 140 is 19600\n",
      "The square of 142 is 20164\n",
      "The square of 144 is 20736\n",
      "The square of 146 is 21316\n",
      "The square of 148 is 21904\n",
      "The square of 150 is 22500\n",
      "The square of 152 is 23104\n",
      "The square of 154 is 23716\n",
      "The square of 156 is 24336\n",
      "The square of 158 is 24964\n",
      "The square of 160 is 25600\n",
      "The square of 162 is 26244\n",
      "The square of 164 is 26896\n",
      "The square of 166 is 27556\n",
      "The square of 168 is 28224\n",
      "The square of 170 is 28900\n",
      "The square of 172 is 29584\n",
      "The square of 174 is 30276\n",
      "The square of 176 is 30976\n",
      "The square of 178 is 31684\n",
      "The square of 180 is 32400\n",
      "The square of 182 is 33124\n",
      "The square of 184 is 33856\n",
      "The square of 186 is 34596\n",
      "The square of 188 is 35344\n",
      "The square of 190 is 36100\n",
      "The square of 192 is 36864\n",
      "The square of 194 is 37636\n",
      "The square of 196 is 38416\n",
      "The square of 198 is 39204\n",
      "The square of 200 is 40000\n"
     ]
    }
   ],
   "source": [
    "# Iterate through numbers from 100 to 200 (inclusive)\n",
    "for num in range(100, 201): \n",
    "    # Check if the current number is even\n",
    "    if num % 2 == 0:        \n",
    "        # Calculate the square of the even number and print it\n",
    "        print(f\"The square of {num} is {num ** 2}\")"
   ]
  },
  {
   "cell_type": "code",
   "execution_count": 4,
   "id": "05a92316",
   "metadata": {},
   "outputs": [
    {
     "name": "stdout",
     "output_type": "stream",
     "text": [
      "The square of 101 is 10201\n",
      "The square of 103 is 10609\n",
      "The square of 105 is 11025\n",
      "The square of 107 is 11449\n",
      "The square of 109 is 11881\n",
      "The square of 111 is 12321\n",
      "The square of 113 is 12769\n",
      "The square of 115 is 13225\n",
      "The square of 117 is 13689\n",
      "The square of 119 is 14161\n",
      "The square of 121 is 14641\n",
      "The square of 123 is 15129\n",
      "The square of 125 is 15625\n",
      "The square of 127 is 16129\n",
      "The square of 129 is 16641\n",
      "The square of 131 is 17161\n",
      "The square of 133 is 17689\n",
      "The square of 135 is 18225\n",
      "The square of 137 is 18769\n",
      "The square of 139 is 19321\n",
      "The square of 141 is 19881\n",
      "The square of 143 is 20449\n",
      "The square of 145 is 21025\n",
      "The square of 147 is 21609\n",
      "The square of 149 is 22201\n",
      "The square of 151 is 22801\n",
      "The square of 153 is 23409\n",
      "The square of 155 is 24025\n",
      "The square of 157 is 24649\n",
      "The square of 159 is 25281\n",
      "The square of 161 is 25921\n",
      "The square of 163 is 26569\n",
      "The square of 165 is 27225\n",
      "The square of 167 is 27889\n",
      "The square of 169 is 28561\n",
      "The square of 171 is 29241\n",
      "The square of 173 is 29929\n",
      "The square of 175 is 30625\n",
      "The square of 177 is 31329\n",
      "The square of 179 is 32041\n",
      "The square of 181 is 32761\n",
      "The square of 183 is 33489\n",
      "The square of 185 is 34225\n",
      "The square of 187 is 34969\n",
      "The square of 189 is 35721\n",
      "The square of 191 is 36481\n",
      "The square of 193 is 37249\n",
      "The square of 195 is 38025\n",
      "The square of 197 is 38809\n",
      "The square of 199 is 39601\n"
     ]
    }
   ],
   "source": [
    "# Iterate through numbers from 100 to 200 (inclusive)\n",
    "for num in range(100, 201): \n",
    "    # Check if the current number is odd\n",
    "    if num % 2 != 0:        \n",
    "        # Calculate the square of the odd number and print it\n",
    "        print(f\"The square of {num} is {num ** 2}\")"
   ]
  },
  {
   "cell_type": "markdown",
   "id": "da9c26e1",
   "metadata": {},
   "source": [
    "## 04.Word Counter"
   ]
  },
  {
   "cell_type": "code",
   "execution_count": 5,
   "id": "54b6ed93",
   "metadata": {},
   "outputs": [
    {
     "name": "stdout",
     "output_type": "stream",
     "text": [
      "Enter some text: This is a sample text.\n",
      "The number of words in the given text is: 5\n",
      "'This': 1\n",
      "'is': 1\n",
      "'a': 1\n",
      "'sample': 1\n",
      "'text.': 1\n"
     ]
    }
   ],
   "source": [
    "def count_words(text):\n",
    "    # Split the text into a list of words\n",
    "    words = text.split()\n",
    "    \n",
    "    # Create an empty dictionary to store word counts\n",
    "    word_count = {}\n",
    "    \n",
    "    # Count how many times each word appears\n",
    "    for word in words:\n",
    "        # Update the count for the word in the dictionary\n",
    "        word_count[word] = word_count.get(word, 0) + 1\n",
    "    \n",
    "    # Return the total number of words and the word count dictionary\n",
    "    return len(words), word_count\n",
    "\n",
    "# Ask the user to enter some text\n",
    "input_text = input(\"Enter some text: \")\n",
    "\n",
    "# Call the count_words function and get the total number of words and word counts\n",
    "total_words, word_count = count_words(input_text)\n",
    "\n",
    "# Print the total number of words\n",
    "print(f\"The number of words in the given text is: {total_words}\")\n",
    "\n",
    "# Print each word and its count\n",
    "for word, count in word_count.items():\n",
    "    print(f\"'{word}': {count}\")\n"
   ]
  },
  {
   "cell_type": "markdown",
   "id": "8b896c1f",
   "metadata": {},
   "source": [
    "## 05.Check for Palindrome"
   ]
  },
  {
   "cell_type": "code",
   "execution_count": 6,
   "id": "cb4f5068",
   "metadata": {},
   "outputs": [
    {
     "name": "stdout",
     "output_type": "stream",
     "text": [
      "Enter string: racecar\n",
      "Result: True\n"
     ]
    }
   ],
   "source": [
    "import re  # Import the regular expression module\n",
    "\n",
    "def is_palindrome(s):\n",
    "    # Remove non-alphanumeric characters and convert the string to lowercase\n",
    "    p_string = re.sub(r'[^a-zA-Z0-9]', '', s).lower()\n",
    "    \n",
    "    # Check if the cleaned string reads the same forwards and backwards\n",
    "    return p_string == p_string[::-1]\n",
    "\n",
    "# Ask the user to enter a string\n",
    "input_string = input(\"Enter string: \")\n",
    "\n",
    "# Check if the input string is a palindrome\n",
    "result = is_palindrome(input_string)\n",
    "\n",
    "# Print the result\n",
    "print(f'Result: {result}')  # Display whether the string is a palindrome"
   ]
  },
  {
   "cell_type": "code",
   "execution_count": null,
   "id": "d3067467",
   "metadata": {},
   "outputs": [],
   "source": []
  },
  {
   "cell_type": "code",
   "execution_count": null,
   "id": "a31d3ebb",
   "metadata": {},
   "outputs": [],
   "source": []
  }
 ],
 "metadata": {
  "kernelspec": {
   "display_name": "Python 3 (ipykernel)",
   "language": "python",
   "name": "python3"
  },
  "language_info": {
   "codemirror_mode": {
    "name": "ipython",
    "version": 3
   },
   "file_extension": ".py",
   "mimetype": "text/x-python",
   "name": "python",
   "nbconvert_exporter": "python",
   "pygments_lexer": "ipython3",
   "version": "3.11.3"
  }
 },
 "nbformat": 4,
 "nbformat_minor": 5
}
